{
 "cells": [
  {
   "cell_type": "markdown",
   "metadata": {
    "nbpresent": {
     "id": "282a70b0-0c83-4f9a-9ecb-53318f17c65b"
    }
   },
   "source": [
    "# Converting Radiation Surfrad .dat Files to NetCDF4"
   ]
  },
  {
   "cell_type": "markdown",
   "metadata": {
    "nbpresent": {
     "id": "a909fffe-d163-40b3-8a57-483c792ca707"
    }
   },
   "source": [
    "All of the examples will be data from `Bondville_IL/`, and from the year 2016. Such files will be names `bon16###` where `###` denotes the julian day of the year. "
   ]
  },
  {
   "cell_type": "markdown",
   "metadata": {},
   "source": [
    "## Structuring Your Directory"
   ]
  },
  {
   "cell_type": "markdown",
   "metadata": {},
   "source": [
    "As of April 28, 2017, these files assume this directory is laid out in this manner:\n",
    "\n",
    "    Project\n",
    "     |\n",
    "     +-- .py Files\n",
    "     |\n",
    "     +-- .sh Files\n",
    "     |    \n",
    "     +-- Data\\\n",
    "     |  |  \n",
    "     |  +-- Bondville_IL\\\n",
    "     |  |   |\n",
    "     |  |   +--1995\\\n",
    "     |  |   |  |\n",
    "     |  |   |  +--bon95001.dat\n",
    "     |  |   |  |\n",
    "     |  |   |  +--bon95002.dat\n",
    "     |  |   |  |\n",
    "     |  |   |  +--etc.\n",
    "     |  |   |\n",
    "     |  |   +--1996\\\n",
    "     |  |   |\n",
    "     |  |   +--etc.\n",
    "     |  |\n",
    "     |  +-- Boulder_CO\\\n",
    "     |  |\n",
    "     |  +-- csv\\\n",
    "     |  |\n",
    "     |  +-- nc\\\n",
    "\n",
    "This is necessary because many of the converison scripts will try and write to `Data\\csv\\` or `Data\\nc`."
   ]
  },
  {
   "cell_type": "markdown",
   "metadata": {
    "nbpresent": {
     "id": "b795bcdc-2aaa-45b4-94f2-4b833ac87571"
    }
   },
   "source": [
    "## Headers"
   ]
  },
  {
   "cell_type": "markdown",
   "metadata": {
    "nbpresent": {
     "id": "24b3ae74-757a-4705-8c36-cd58d4686ef3"
    }
   },
   "source": [
    "Radiation's Surfrad files have numerous headers:\n",
    "\n",
    "    YEAR DDD MM DD HH mm hh.mmm ZNAGL dw_psp qc uw_psp qc direct qc diffuse qc dw_pir qc dwCasTmp qc dwDomTmp qc uw_pir qc uwCastmp qc uwDomtmp qc uvb qc par qc netSolar qc netIr qc totalNet qc temp qc rh qc windSp qc winsDir qc Baro qc\n",
    "    \n",
    "All of those items, seperated by whitespace, are headers. An initial observation would show that the `qc` header shows up multiple times -- these are quality control flags for the preceding header. A `qc` value of 0 indicated values within an expected range, a value of 1 indicates a value outside of a physically possible range, a value of 2 indicates a value that is physically possible but \"should be used with scrutiny\". Missing values are indicated by a value of \"-9999.9\" and should always have a corresponding `qc` of \"1\"."
   ]
  },
  {
   "cell_type": "markdown",
   "metadata": {
    "nbpresent": {
     "id": "7bf7f65b-5443-4486-b3c4-0af793fff0c7"
    }
   },
   "source": [
    "## Converting to .csv"
   ]
  },
  {
   "cell_type": "markdown",
   "metadata": {
    "nbpresent": {
     "id": "1c1f56d6-bb02-4946-a071-2520a50643b8"
    }
   },
   "source": [
    "The .dat files are plain-text files delimited by whitespace. These files have no headers, only minimal site info and raw data. Here are the first several rows of the file `bon16001.dat`:\n",
    "\n",
    "     Bondville\n",
    "       40.05  -88.37  213 m version 1\n",
    "     2016   1  1  1  0  0  0.000 105.13    -3.4 0     0.0 0     0.8 0    -0.1 0   275.8 0   272.5 0   272.2 0   305.1 0   271.0 0   271.0 0     0.0 0     0.2 0     0.0 0   -29.3 0   -29.3 0    -2.2 0    76.5 0     6.8 0   270.0 0  1001.5 0\n",
    "     2016   1  1  1  0  1  0.017 105.32    -3.6 0     0.0 0     0.8 0    -0.1 0   267.7 0   272.5 0   272.1 0   304.4 0   271.0 0   271.0 0     0.0 0     0.2 0     0.0 0   -36.7 0   -36.7 0    -2.2 0    76.1 0     6.4 0   268.2 0  1001.5 0\n",
    "     2016   1  1  1  0  2  0.033 105.50    -3.6 0     0.0 0     0.7 0    -0.2 0   260.6 0   272.5 0   272.1 0   303.8 0   271.0 0   271.0 0     0.0 0     0.2 0     0.0 0   -43.1 0   -43.1 0    -2.2 0    77.3 0     6.0 0   272.1 0  1001.5 0\n",
    "     2016   1  1  1  0  3  0.050 105.68    -3.7 0     0.0 0     0.4 0    -0.1 0   252.5 0   272.5 0   272.1 0   303.1 0   270.9 0   270.9 0     0.0 0     0.2 0     0.0 0   -50.7 0   -50.7 0    -2.2 0    76.7 0     6.6 0   273.9 0  1001.5 0\n",
    "     2016   1  1  1  0  4  0.067 105.86    -3.8 0     0.0 0     0.4 0    -0.1 0   246.8 0   272.5 0   272.0 0   302.4 0   270.9 0   270.9 0     0.0 0     0.2 0     0.0 0   -55.6 0   -55.6 0    -2.2 0    77.0 0     6.0 0   278.4 0  1001.5 0\n",
    "\n",
    "Converting these files to .csv will essentially double the amount of storage needed for all the data. However, it seems to be a necessary step, due to the nature of the .dat files. The first step is to include the headers in the new .csv file. I've made a file called `headers.txt` (and a matching `headers.dat`) which contains all the headers that match up with Surfrad .dat files (and are delimited by whitespace).\n",
    "\n",
    "What follows can be found in the file `dat_to_csv.py`."
   ]
  },
  {
   "cell_type": "code",
   "execution_count": 14,
   "metadata": {
    "collapsed": true,
    "nbpresent": {
     "id": "c2f7a9d1-260d-45e5-bc2d-78bf43ffc681"
    }
   },
   "outputs": [],
   "source": [
    "import sys\n",
    "from os.path import basename\n",
    "import os"
   ]
  },
  {
   "cell_type": "code",
   "execution_count": 15,
   "metadata": {
    "collapsed": false,
    "nbpresent": {
     "id": "c6dc073e-33fc-44e2-b145-6a674c62264e"
    }
   },
   "outputs": [
    {
     "name": "stdout",
     "output_type": "stream",
     "text": [
      "YEAR,DDD,MM,DD,HH,mm,hh.mmm,ZNAGL,dw_psp,qc,uw_psp,qc,direct,qc,diffuse,qc,dw_pir,qc,dwCasTmp,qc,dwDomTmp,qc,uw_pir,qc,uwCastmp,qc,uwDomtmp,qc,uvb,qc,par,qc,netSolar,qc,netIr,qc,totalNet,qc,temp,qc,rh,qc,windSp,qc,winsDir,qc,Baro,qc\n"
     ]
    }
   ],
   "source": [
    "with open(\"headers.dat\", 'r') as header_file:\n",
    "    for line in header_file:\n",
    "        headers = line.split() # this is an array of all the headers\n",
    "headers = ('%s') % ','.join(headers) # this formats the headers as a comma-delimited string\n",
    "\n",
    "print headers"
   ]
  },
  {
   "cell_type": "code",
   "execution_count": 16,
   "metadata": {
    "collapsed": true,
    "nbpresent": {
     "id": "6b67b279-1028-4463-b2bf-fc648ffe06ee"
    }
   },
   "outputs": [],
   "source": [
    "input = \"bon16001.dat\" # this is the file for this example, normally passed in via command line\n",
    "base = os.path.splitext(basename(input))[0] # this gets the name of the file (e.g \"bon16001.dat\" -> \"bon16001\")\n",
    "out_name = (base + \".csv\") # this is the name for the file to be written\n",
    "\n",
    "with open(input, 'r') as input_file:\n",
    "    with open(out_name, 'w') as output_file:\n",
    "        output_file.write(headers + \"\\n\") # this writes the headers to the new file\n",
    "        for count, line in enumerate(input_file):\n",
    "            if count < 2: # we can skip the first two lines of the input\n",
    "                pass\n",
    "            else:\n",
    "                if line.split()[0]=='\\x1a': # skip empty rows\n",
    "                    pass\n",
    "                else: # write the data delimited by commas\n",
    "                    outLine = \",\".join(line.split())\n",
    "                    output_file.write(outLine + '\\n')"
   ]
  },
  {
   "cell_type": "markdown",
   "metadata": {
    "nbpresent": {
     "id": "4cedf942-e33c-47a8-b12b-447b83d56f40"
    }
   },
   "source": [
    "I made a shell script which will find all the .dat files in your directory and convert them into .csv files in the `Data/csv` directory. You will need to have the `dat_to_csv.py` file in your directory along with `_dat_to_csv.sh`. You can then run\n",
    "\n",
    "    ./_dat_to_csv.sh\n"
   ]
  },
  {
   "cell_type": "markdown",
   "metadata": {},
   "source": [
    "### Important note on .csv conversion"
   ]
  },
  {
   "cell_type": "markdown",
   "metadata": {},
   "source": [
    "The file `dat_to_csv.py` writes files to specific folders based on the date. This is very important for the NetCDF writer, as all the .csv files are alread grouped by month, year, and test site."
   ]
  },
  {
   "cell_type": "markdown",
   "metadata": {
    "nbpresent": {
     "id": "6d103f20-b813-42e6-9697-cebdbf06c28e"
    }
   },
   "source": [
    "## Converting to .nc"
   ]
  },
  {
   "cell_type": "markdown",
   "metadata": {},
   "source": [
    "All of the actual csv->nc conversion logic lies in `nc_convert.py`. Essentially it checks whether the input is a single file (`isinstance(input, basestring)`) or a set of files. Single files are daily files, anything else is combined into a single file. As I'm writing this, all qc columns are dropped and all headers are renamed based off of names supplied by John Augustine. \n",
    "\n",
    "The scripts `csv_to_nc_daily`, `csv_to_nc_monthly`, `csv_to_nc_yearly`, and `csv_to_nc_testsite` all handle the logic pertaining to naming NetCDF files and passing data to `nc_convert.py`. So `csv_to_nc_monthly` takes an input of exactly a month's worth of data, determines a name, and passes it to `nc_convert.py`.\n",
    "\n",
    "The scripts `catch_up_daily`, `catch_up_monthly`, `catch_up_yearly`, and `catch_up_testsite` determine what data fits into a timespan and pass them to the `csv_to_nc*` scripts. These are specifically written to \"catch up\" on historical data (as they recursively walk the data directory and pass all the data in it). These can be reimagined to convert new incoming data."
   ]
  }
 ],
 "metadata": {
  "anaconda-cloud": {},
  "kernelspec": {
   "display_name": "Python [default]",
   "language": "python",
   "name": "python2"
  },
  "language_info": {
   "codemirror_mode": {
    "name": "ipython",
    "version": 2
   },
   "file_extension": ".py",
   "mimetype": "text/x-python",
   "name": "python",
   "nbconvert_exporter": "python",
   "pygments_lexer": "ipython2",
   "version": "2.7.12"
  }
 },
 "nbformat": 4,
 "nbformat_minor": 1
}
